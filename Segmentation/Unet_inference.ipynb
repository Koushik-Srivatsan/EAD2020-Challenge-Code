{
 "cells": [
  {
   "cell_type": "code",
   "execution_count": null,
   "metadata": {},
   "outputs": [],
   "source": [
    "from libtiff import TIFF\n",
    "import cv2\n",
    "import numpy as np\n",
    "import os \n",
    "import segmentation_models as sm\n",
    "import natsort\n",
    "import random\n",
    "import imgaug.augmenters as iaa\n",
    "import imgaug as ia\n",
    "from keras.models import load_model\n",
    "from tqdm import tqdm\n",
    "from PIL import Image\n",
    "import keras.backend as K\n",
    "import time\n",
    "import imageio\n",
    "import configparser\n"
   ]
  },
  {
   "cell_type": "code",
   "execution_count": null,
   "metadata": {},
   "outputs": [],
   "source": [
    "config = configparser.ConfigParser()\n",
    "config.read('segmentation_inference.ini')\n",
    "\n",
    "\n",
    "MODEL_WEIGHTS_PATH = config['model_params']['model_weights_path'] #Path to model weights\n",
    "PATH = config['model_params']['images_path'] # Path to folder with test_images\n",
    "DEST_PATH = config['model_params']['save_path'] #Path to save the converted tiff outputs from the model\n"
   ]
  },
  {
   "cell_type": "code",
   "execution_count": null,
   "metadata": {},
   "outputs": [],
   "source": [
    "MODEL_WEIGHTS_PATH"
   ]
  },
  {
   "cell_type": "code",
   "execution_count": null,
   "metadata": {},
   "outputs": [],
   "source": [
    "model = sm.Unet(\"resnet50\",input_shape=(None,None,3),classes=5,activation=\"sigmoid\",encoder_freeze = True)\n",
    "model.load_weights(MODEL_WEIGHTS_PATH)"
   ]
  },
  {
   "cell_type": "code",
   "execution_count": null,
   "metadata": {},
   "outputs": [],
   "source": [
    "def convert_numpy_to_tiff(tiff_npy, file_name, save_path):\n",
    "    \n",
    "    if not os.path.exists(save_path):\n",
    "        os.mkdir(save_path)\n",
    "        \n",
    "    list_temp = []\n",
    "    \n",
    "    for i in range(0,5):\n",
    "        tiff_npy[:,:,i][tiff_npy[:,:,i]==1]=255\n",
    "        list_temp.append(tiff_npy[:,:,i])\n",
    "        \n",
    "    tiff = np.asarray(list_temp,dtype=np.uint8)\n",
    "    imageio.mimwrite(os.path.join(save_path,os.path.splitext(file_name)[0]+\".tif\"),tiff)\n"
   ]
  },
  {
   "cell_type": "code",
   "execution_count": null,
   "metadata": {},
   "outputs": [],
   "source": [
    "def perform_inference(model,path,dest_path):\n",
    "    \n",
    "    for files in tqdm(os.listdir(path)):\n",
    "        list_buffer = []\n",
    "\n",
    "        img = cv2.imread(os.path.join(PATH,files))\n",
    "        shape = img.shape\n",
    "        img = cv2.resize(img,(512,512))\n",
    "        mask_pred = model.predict(np.expand_dims(img,axis=0))\n",
    "        mask_pred = mask_pred[0]\n",
    "        \n",
    "        for i in range(0,5):\n",
    "            mask_pred[:,:,i][mask_pred[:,:,i]>0.5]=1\n",
    "            mask_pred[:,:,i][mask_pred[:,:,i]<=0.5]=0\n",
    "            list_buffer+=[cv2.resize(mask_pred[:,:,i],(shape[1],shape[0]),interpolation=cv2.INTER_NEAREST)]\n",
    "        \n",
    "        img_mask = cv2.merge((list_buffer[0],list_buffer[1],list_buffer[2],list_buffer[3],list_buffer[4]))\n",
    "        convert_numpy_to_tiff(img_mask,files,dest_path)\n",
    "\n",
    "        "
   ]
  },
  {
   "cell_type": "code",
   "execution_count": null,
   "metadata": {},
   "outputs": [],
   "source": [
    "perform_inference(model,PATH,DEST_PATH)\n"
   ]
  }
 ],
 "metadata": {
  "kernelspec": {
   "display_name": "Python 3",
   "language": "python",
   "name": "python3"
  },
  "language_info": {
   "codemirror_mode": {
    "name": "ipython",
    "version": 3
   },
   "file_extension": ".py",
   "mimetype": "text/x-python",
   "name": "python",
   "nbconvert_exporter": "python",
   "pygments_lexer": "ipython3",
   "version": "3.6.8"
  }
 },
 "nbformat": 4,
 "nbformat_minor": 2
}
